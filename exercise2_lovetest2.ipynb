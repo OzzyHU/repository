{
 "cells": [
  {
   "cell_type": "code",
   "execution_count": 14,
   "metadata": {},
   "outputs": [],
   "source": [
    "# variable names input\n",
    "name1 = input(\"First name \")\n",
    "name2 = input(\"Second name \")"
   ]
  },
  {
   "cell_type": "code",
   "execution_count": 15,
   "metadata": {},
   "outputs": [
    {
     "name": "stdout",
     "output_type": "stream",
     "text": [
      "Your name combinations are Joske & Hanie\n"
     ]
    }
   ],
   "source": [
    "# variable combination name plus string method title and strip\n",
    "combination_name = name1.strip().title() + \" \" + \"&\" + \" \" + name2.strip().title()\n",
    "\n",
    "# Variable lenght of combination name\n",
    "combination_lenght = len(combination_name)\n",
    "\n",
    "# print name combination\n",
    "print(\"Your name combinations are \" + combination_name)"
   ]
  },
  {
   "cell_type": "code",
   "execution_count": 26,
   "metadata": {},
   "outputs": [
    {
     "name": "stdout",
     "output_type": "stream",
     "text": [
      "Joske & Hanie are a perfect match due to the same amount of letters in their names\n"
     ]
    }
   ],
   "source": [
    "# name combinations statements\n",
    "\n",
    "# print name combination if the names share similar letters\n",
    "if name1 in name2: \n",
    "    print(combination_name + \" are a match by the similiraty of their names\")\n",
    "    \n",
    "# print name combination if the lenght is shorter or equals than 12 characters\n",
    "elif combination_lenght <= 12:\n",
    "    print(combination_name + \" are most likely to be a match by the lenght of their names together\")\n",
    "\n",
    "# print name combination if the lenght is longer or equals than 20 character    \n",
    "elif combination_lenght >= 20:\n",
    "    print(combination_name + \" are less likely to be a match by the lenght of their names together\")\n",
    "\n",
    "elif name1.startswith(\"o\") and name2.startswith(\"o\"):\n",
    "    print(combination_name + \" are a perfect match due to their first letters\")\n",
    "# print no matching results if the statements above don't apply\n",
    "\n",
    "elif name1.count(\"0\") == name2.count(\"0\"):\n",
    "    print(combination_name + \" are a perfect match due to the same amount of letters in their names\")\n",
    "\n",
    "else:\n",
    "    print(\"You are not a match, try a new combination of names\")"
   ]
  },
  {
   "cell_type": "code",
   "execution_count": null,
   "metadata": {},
   "outputs": [],
   "source": []
  },
  {
   "cell_type": "code",
   "execution_count": null,
   "metadata": {},
   "outputs": [],
   "source": []
  }
 ],
 "metadata": {
  "kernelspec": {
   "display_name": "Python 3",
   "language": "python",
   "name": "python3"
  },
  "language_info": {
   "codemirror_mode": {
    "name": "ipython",
    "version": 3
   },
   "file_extension": ".py",
   "mimetype": "text/x-python",
   "name": "python",
   "nbconvert_exporter": "python",
   "pygments_lexer": "ipython3",
   "version": "3.6.5"
  }
 },
 "nbformat": 4,
 "nbformat_minor": 2
}
