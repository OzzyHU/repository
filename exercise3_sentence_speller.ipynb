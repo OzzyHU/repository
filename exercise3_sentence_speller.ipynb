{
 "cells": [
  {
   "cell_type": "code",
   "execution_count": 17,
   "metadata": {},
   "outputs": [],
   "source": [
    "# list of wrong fruit words\n",
    "wrong_words = [\"appel\", \"watermelno\", \"banaan\", \"oraneg\", \"grapse\"] "
   ]
  },
  {
   "cell_type": "code",
   "execution_count": 18,
   "metadata": {},
   "outputs": [],
   "source": [
    "# input user's favorite fruit\n",
    "sentence = input(\" What's your favorite fruit? \")"
   ]
  },
  {
   "cell_type": "code",
   "execution_count": 19,
   "metadata": {},
   "outputs": [
    {
     "name": "stdout",
     "output_type": "stream",
     "text": [
      "['my', 'favorite', 'fruit', 'is', 'grapse']\n"
     ]
    }
   ],
   "source": [
    "# new list within the user's sentence is separated\n",
    "sentence_words = sentence.split(\" \")\n",
    "print(sentence_words)"
   ]
  },
  {
   "cell_type": "code",
   "execution_count": 24,
   "metadata": {},
   "outputs": [
    {
     "name": "stdout",
     "output_type": "stream",
     "text": [
      "You've written 'my favorite fruit is grapse'\n",
      "Error: the fruit you've writen isn't correct spelled\n"
     ]
    }
   ],
   "source": [
    "# index of list starting from 0\n",
    "index = 0\n",
    "\n",
    "# for loop statement for new sentence list \n",
    "for word in sentence_words:\n",
    "# if statement to check whether the user's word is in the wrong_words list     \n",
    "    if sentence_words[index] in wrong_words:\n",
    "        print(\"Error: the fruit you've writen isn't correct spelled\")\n",
    "\n",
    "# index of list +1 to commnunicate you want to run all the variables whithin a list\n",
    "    index = index + 1\n",
    "    "
   ]
  },
  {
   "cell_type": "code",
   "execution_count": null,
   "metadata": {},
   "outputs": [],
   "source": []
  }
 ],
 "metadata": {
  "kernelspec": {
   "display_name": "Python 3",
   "language": "python",
   "name": "python3"
  },
  "language_info": {
   "codemirror_mode": {
    "name": "ipython",
    "version": 3
   },
   "file_extension": ".py",
   "mimetype": "text/x-python",
   "name": "python",
   "nbconvert_exporter": "python",
   "pygments_lexer": "ipython3",
   "version": "3.6.5"
  }
 },
 "nbformat": 4,
 "nbformat_minor": 2
}
